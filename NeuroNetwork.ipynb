{
 "cells": [
  {
   "cell_type": "markdown",
   "id": "d92a2137-a756-4ac4-b69f-89e7fd481c39",
   "metadata": {},
   "source": [
    "# Building a neural network\n",
    "\n",
    "Given instructions to follow:\n",
    "'''\n",
    "1. Write the entropy function for binary classification from scratch using only Python's math module. Do NOT use Numpy.\n",
    "2. Do NOT call a built-in entropy function from any Python library.\n",
    "3. Use the math library only. Do not use any other library.\n",
    "4. You have to write the entropy function from scratch on your own.\n",
    "5. Your entropy function should take a probability value for one of the two classes as input, and output its entropy value.\n",
    "6. Call your entropy function using .2 as input.\n",
    "\n",
    "   \n",
    "**Print** the output of the function call as \"The entropy value of probability .2 is xxx\" -\n",
    "   Replace xxx with the appropriate value\n",
    "\n",
    "Call your entropy function using .8 as input\n",
    "**Print** the output of the function call as \"The entropy value of probability .8 is xxx\" -\n",
    "   \n",
    "   Replace xxx with the appropriate value\n",
    "9. Call your entropy function using .5 as input\n",
    "\n",
    "**Print** the output of the function call as \"The entropy value of probability .5 is xxx\" -\n",
    "   Replace xxx with the appropriate value\n",
    "'''"
   ]
  },
  {
   "cell_type": "code",
   "execution_count": 1,
   "id": "39df7975-04f3-4a7b-a53b-032b9b22835e",
   "metadata": {},
   "outputs": [
    {
     "name": "stdout",
     "output_type": "stream",
     "text": [
      "The entropy value of probability .2 is 0.7219280948873623\n"
     ]
    }
   ],
   "source": [
    "import math\n",
    "\n",
    "def entropy(p):\n",
    "    if p == 0 or p == 1:\n",
    "        return 0\n",
    "    else:\n",
    "        return -(p * math.log2(p) + (1 - p) * math.log2(1 - p))\n",
    "\n",
    "# Call the entropy function with .2 as input\n",
    "entropy_value = entropy(0.2)\n",
    "print(f\"The entropy value of probability .2 is {entropy_value:}\") #:.3f for 3 decimal places"
   ]
  },
  {
   "cell_type": "code",
   "execution_count": 2,
   "id": "27c5496a-c317-4059-abd3-dd9b7c1c9257",
   "metadata": {},
   "outputs": [
    {
     "name": "stdout",
     "output_type": "stream",
     "text": [
      "The entropy value of probability .8 is 0.7219280948873623\n"
     ]
    }
   ],
   "source": [
    "# call the entropy function with 0.8 as input\n",
    "\n",
    "entropy_value = entropy(0.8)\n",
    "print(f\"The entropy value of probability .8 is {entropy_value:}\")"
   ]
  },
  {
   "cell_type": "code",
   "execution_count": 3,
   "id": "2efcdb49-c9ab-4b49-bc5a-a9e1779f671f",
   "metadata": {},
   "outputs": [
    {
     "name": "stdout",
     "output_type": "stream",
     "text": [
      "The entropy value of probability .5 is 1.0\n"
     ]
    }
   ],
   "source": [
    "# call the entropy function with 0.5 as input\n",
    "\n",
    "entropy_value = entropy(0.5)\n",
    "print(f\"The entropy value of probability .5 is {entropy_value:}\")"
   ]
  },
  {
   "cell_type": "markdown",
   "id": "9995a79a-c735-495f-914b-2a285053fd65",
   "metadata": {},
   "source": [
    "# Building an RNN for time series prediction\n",
    "'''\n",
    "RNN for Time Series Prediction\n",
    "\n",
    "The goal is to predict log_volume using lagged data.\n",
    "\n",
    "Step 0: Load Libraries"
   ]
  },
  {
   "cell_type": "code",
   "execution_count": 16,
   "id": "766efda7-8e44-4f79-bb50-ddba75bedc49",
   "metadata": {},
   "outputs": [],
   "source": [
    "import os\n",
    "os.environ['TF_CPP_MIN_LOG_LEVEL'] = '3' # Supress TF warnings\n",
    "\n",
    "import random\n",
    "import numpy as np\n",
    "import tensorflow as tf\n",
    "import pandas as pd\n",
    "\n",
    "random.seed(1693)\n",
    "np.random.seed(1693)\n",
    "tf.random.set_seed(1693)\n",
    "# FREEZE CODE END\n",
    "\n",
    "from tensorflow.keras.preprocessing import sequence\n",
    "from tensorflow.keras.models import Sequential\n",
    "from tensorflow.keras.layers import Dense, Embedding, SimpleRNN\n",
    "from tensorflow.keras.layers import LSTM\n",
    "#from tensorflow.keras.layers import TimeDistributed\n",
    "import matplotlib.pyplot as plt\n",
    "import datetime as dt\n",
    "from sklearn.preprocessing import StandardScaler"
   ]
  },
  {
   "cell_type": "markdown",
   "id": "864eb885-f7a6-4f53-9d69-b8429deb985f",
   "metadata": {},
   "source": [
    "'''\n",
    "Step 1: Load & Prep Dataframes\n",
    "\n",
    "\n",
    "Load the NYSE dataset from the NYSE.csv file available in the file tree to the left.\n",
    "\n",
    "\n",
    "The date column gives you the timestamps of the time Series.\n",
    "\n",
    "\n",
    "The train column indicates True for records to be used in the train set, and False for those to be used in the test set.\n",
    "\n",
    "For this step, let's keep only these 3 columns: 'DJ_return', 'log_volume', 'log_volatility'\n",
    "\n",
    "Standardize all 3 columns using ScikitLearn's StandardScaler.\n",
    "\n",
    "In the starter code given below:\n",
    "\n",
    "  - cols is a list of the names of these 3 columns.\n",
    "    \n",
    "  - X is a dataframe that contains only these 3 columns from NYSE.csv.\n",
    "    \n",
    "** Print \"0. the shape of datafrmae X: xxx\" - Replace xxx with the proper value\n",
    "\n",
    "** Print \"1. the first record of dataframe X: xxx\" - Replace xxx with proper values\n",
    "'''"
   ]
  },
  {
   "cell_type": "code",
   "execution_count": 5,
   "id": "ca2e2455-7865-44fe-9cb6-54a1d95d4771",
   "metadata": {},
   "outputs": [
    {
     "name": "stdout",
     "output_type": "stream",
     "text": [
      "0. The shape of the dataframe X: (6051, 3)\n",
      "1. The first record of dataframe X: [-0.54982334  0.17507497 -4.35707786]\n"
     ]
    }
   ],
   "source": [
    "\n",
    "NYSE = pd.read_csv('NYSE.csv')\n",
    "\n",
    "cols = ['DJ_return', 'log_volume', 'log_volatility']\n",
    "X = pd.DataFrame(StandardScaler(\n",
    "with_mean=True ,\n",
    "with_std=True).fit_transform(NYSE[cols]),\n",
    "columns=NYSE[cols].columns ,\n",
    "index=NYSE.index)\n",
    "\n",
    "print(f\"0. The shape of the dataframe X: {X.shape}\")  # Print the shape of the dataframe X\n",
    "print(f\"1. The first record of dataframe X: {X.iloc[0].values}\")  # Print the first record of dataframe X"
   ]
  },
  {
   "cell_type": "markdown",
   "id": "3973dec4-c951-4c9b-8d9c-fe2e9e004ae9",
   "metadata": {},
   "source": [
    "'''\n",
    "Use code from the textbook lab to set up lagged versions of these 3 data columns (using the starter code given to you here.)\n",
    "\n",
    "Add column 'train' from the original dataset to the current dataframe X as the last column (to the right).\n",
    "\n",
    "** Print \"2. the shape of dataframe X with lags: xxx\" - Replace xxx with the proper value.\n",
    "\n",
    "** Print \"3. the first record of the data frame with lags: xxx\" - Replace xxx with proper values.\n",
    "'''"
   ]
  },
  {
   "cell_type": "code",
   "execution_count": 6,
   "id": "9c694c9e-17ae-4e49-b4da-d2185acf83ff",
   "metadata": {},
   "outputs": [
    {
     "name": "stdout",
     "output_type": "stream",
     "text": [
      "2. The shape of dataframe X with lags: (6051, 19)\n",
      "3. The first record of the dataframe with lags: [-0.549823342766741 0.17507496702556102 -4.357077862202008 nan nan nan nan\n",
      " nan nan nan nan nan nan nan nan nan nan nan True]\n"
     ]
    }
   ],
   "source": [
    "for lag in range(1, 6):\n",
    "    for col in cols:\n",
    "        newcol = np.zeros(X.shape[0]) * np.nan\n",
    "        newcol[lag:] = X[col].values[:-lag]\n",
    "        X.insert(len(X.columns), \"{0}_{1}\".format(col , lag), newcol)\n",
    "X.insert(len(X.columns), 'train', NYSE['train'])\n",
    "\n",
    "\n",
    "# Print the shape of the dataframe X with lags\n",
    "print(f\"2. The shape of dataframe X with lags: {X.shape}\")\n",
    "\n",
    "# Print the first record of the dataframe with lags\n",
    "print(f\"3. The first record of the dataframe with lags: {X.iloc[0].values}\")"
   ]
  },
  {
   "cell_type": "markdown",
   "id": "a979e059-e15c-41f7-bf2b-8d12fcc02f76",
   "metadata": {},
   "source": [
    "Drop any rows with missing values using the dropna() method.\n",
    "\r\n",
    "*4 Print \"4. the shape of dataframe X with lags: xxx\" - Replace xxx with the proper vale\n",
    "\n",
    "e\r\n",
    " 5 Print \"5. the first record of dataframe X with lags: xxx\" - Replace xxx with proper values"
   ]
  },
  {
   "cell_type": "code",
   "execution_count": 7,
   "id": "ca56b67b-f0dc-4d2a-92dc-b75e09c916e4",
   "metadata": {},
   "outputs": [
    {
     "name": "stdout",
     "output_type": "stream",
     "text": [
      "4. The shape of dataframe X with lags: (6046, 19)\n",
      "5. the first record of dataframe X with lags: DJ_return          -1.304126\n",
      "log_volume          0.605918\n",
      "log_volatility     -1.366028\n",
      "DJ_return_1          0.04634\n",
      "log_volume_1        0.224779\n",
      "log_volatility_1    -2.50097\n",
      "DJ_return_2        -0.431397\n",
      "log_volume_2        0.935176\n",
      "log_volatility_2   -2.366521\n",
      "DJ_return_3         0.434813\n",
      "log_volume_3        2.283789\n",
      "log_volatility_3   -2.418037\n",
      "DJ_return_4           0.9052\n",
      "log_volume_4        1.517291\n",
      "log_volatility_4   -2.529058\n",
      "DJ_return_5        -0.549823\n",
      "log_volume_5        0.175075\n",
      "log_volatility_5   -4.357078\n",
      "train                   True\n",
      "Name: 5, dtype: object\n"
     ]
    }
   ],
   "source": [
    "X = X.dropna()\n",
    "\n",
    "# Print the shape of the dataframe X with lags\n",
    "print(f\"4. The shape of dataframe X with lags: {X.shape}\")\n",
    "\n",
    "# Print the first record of the dataframe with lags\n",
    "print(\"5. the first record of dataframe X with lags:\", X.iloc[0])"
   ]
  },
  {
   "cell_type": "markdown",
   "id": "309a377d-467d-4ac7-891b-72db01f765f9",
   "metadata": {},
   "source": [
    "Create the Y response target using the 'log_volume' column from dataframe X.\n",
    "\n",
    "Extract the 'train' column from dataframe X as a separate variable called train. Drop the 'train' column from dataframe X.\n",
    "\n",
    "Later on we will use the train variable to split the dataset into train vs. test.\n",
    "\n",
    "Drop the current day’s DJ_return (the \"DJ_return\" column) and log_volatility from dataframe X.\n",
    "\n",
    "- Current day refers to the non-lagged columns of these two variables.\n",
    "- In other words, remove these two X features, and also the Y response that came from dataframe X.\n",
    "\n",
    "Print \"6. the first 3 records of the Y target : xxx\" - Replace xxx with proper values.\n",
    "\n",
    "Print \"7. the first 3 records of the train variable: xxx\" - Replace xxx with proper values.\n",
    "\n",
    "Print \"8. the first 3 records of dataframe X: xxx\" - Replace xxx with proper values."
   ]
  },
  {
   "cell_type": "code",
   "execution_count": 8,
   "id": "2d083ba2-7275-4e85-a80d-fcf4bbd30cfe",
   "metadata": {},
   "outputs": [
    {
     "name": "stdout",
     "output_type": "stream",
     "text": [
      "6. the first 3 records of the Y target: 5    0.605918\n",
      "6   -0.013661\n",
      "7    0.042552\n",
      "Name: log_volume, dtype: float64\n",
      "7. the first 3 records of train variable: 5    True\n",
      "6    True\n",
      "7    True\n",
      "Name: train, dtype: bool\n",
      "8. the first 3 records of dataframe X:    DJ_return_1  log_volume_1  log_volatility_1  DJ_return_2  log_volume_2  \\\n",
      "5     0.046340      0.224779         -2.500970    -0.431397      0.935176   \n",
      "6    -1.304126      0.605918         -1.366028     0.046340      0.224779   \n",
      "7    -0.006294     -0.013661         -1.505667    -1.304126      0.605918   \n",
      "\n",
      "   log_volatility_2  DJ_return_3  log_volume_3  log_volatility_3  DJ_return_4  \\\n",
      "5         -2.366521     0.434813      2.283789         -2.418037     0.905200   \n",
      "6         -2.500970    -0.431397      0.935176         -2.366521     0.434813   \n",
      "7         -1.366028     0.046340      0.224779         -2.500970    -0.431397   \n",
      "\n",
      "   log_volume_4  log_volatility_4  DJ_return_5  log_volume_5  log_volatility_5  \n",
      "5      1.517291         -2.529058    -0.549823      0.175075         -4.357078  \n",
      "6      2.283789         -2.418037     0.905200      1.517291         -2.529058  \n",
      "7      0.935176         -2.366521     0.434813      2.283789         -2.418037  \n"
     ]
    }
   ],
   "source": [
    "# Create the Y target\n",
    "#Y = X['log_volume']\n",
    "\n",
    "## extract the 'train' column from X\n",
    "#train = X['train']\n",
    "\n",
    "Y, train = X['log_volume'], X['train']\n",
    "\n",
    "#Drop the train column and DJ_return and log_volatility\n",
    "X = X.drop(columns=['train','DJ_return', 'log_volatility'] + cols)\n",
    "\n",
    "\n",
    "# Print the first 3 records of the Y target\n",
    "print(\"6. the first 3 records of the Y target:\", Y.iloc[0:3])\n",
    "\n",
    "# Print the first 3 records of the train variable\n",
    "print(\"7. the first 3 records of train variable:\", train.iloc[0:3])\n",
    "\n",
    "# Print the first 3 records of dataframe X\n",
    "print(\"8. the first 3 records of dataframe X:\", X.iloc[0:3])\n"
   ]
  },
  {
   "cell_type": "markdown",
   "id": "bfa35b5b-0362-4d4e-80dc-e64c147f2c01",
   "metadata": {},
   "source": [
    "To fit the RNN, we must reshape the X dataframe, as the RNN layer will expect 5 lagged versions of each feature as indicated by the (5,3) shape of the RNN layer below.\n",
    "\n",
    "We first ensure the columns of our X dataframe are such that a reshaped matrix will have the variables correctly lagged.\n",
    "\n",
    "We use the reindex() method to do this.\n",
    "\n",
    "The RNN layer also expects the first row of each observation to be earliest in time.\n",
    "\n",
    "So we must reverse the current order.\n",
    "\n",
    "Print \"9. the first 3 records of X after reindexing: xxx\" - Replace xxx with proper values."
   ]
  },
  {
   "cell_type": "code",
   "execution_count": 9,
   "id": "5557f68e-8b39-49f6-a4fe-6debaaa69eec",
   "metadata": {},
   "outputs": [
    {
     "name": "stdout",
     "output_type": "stream",
     "text": [
      "9. the first 3 records of X after reindexing:    DJ_return_5  log_volume_5  log_volatility_5  DJ_return_4  log_volume_4  \\\n",
      "5    -0.549823      0.175075         -4.357078     0.905200      1.517291   \n",
      "6     0.905200      1.517291         -2.529058     0.434813      2.283789   \n",
      "7     0.434813      2.283789         -2.418037    -0.431397      0.935176   \n",
      "\n",
      "   log_volatility_4  DJ_return_3  log_volume_3  log_volatility_3  DJ_return_2  \\\n",
      "5         -2.529058     0.434813      2.283789         -2.418037    -0.431397   \n",
      "6         -2.418037    -0.431397      0.935176         -2.366521     0.046340   \n",
      "7         -2.366521     0.046340      0.224779         -2.500970    -1.304126   \n",
      "\n",
      "   log_volume_2  log_volatility_2  DJ_return_1  log_volume_1  log_volatility_1  \n",
      "5      0.935176         -2.366521     0.046340      0.224779         -2.500970  \n",
      "6      0.224779         -2.500970    -1.304126      0.605918         -1.366028  \n",
      "7      0.605918         -1.366028    -0.006294     -0.013661         -1.505667  \n"
     ]
    }
   ],
   "source": [
    "ordered_cols = []\n",
    "for lag in range(5,0,-1):\n",
    "    for col in cols:\n",
    "        ordered_cols.append('{0}_{1}'.format(col , lag))\n",
    "X = X.reindex(columns=ordered_cols)\n",
    "X.columns\n",
    "print(\"9. the first 3 records of X after reindexing:\", X.iloc[0:3])"
   ]
  },
  {
   "cell_type": "markdown",
   "id": "1a50fca9-e08f-47be-af40-7847f343edf7",
   "metadata": {},
   "source": [
    "Reshape dataframe X as a 3-D Numpy array such that each record/row has the shape of (5,3). Each row represents a lagged version of the 3 variables in the shape of (5,3).\n",
    "\n",
    "Print \"10. the shape of X after reshaping: xxx\" - Replace xxx with proper values.\n",
    "\n",
    "Print \"11. the first 2 records of X after reshaping: xxx\" - Replace xxx with proper values."
   ]
  },
  {
   "cell_type": "code",
   "execution_count": 10,
   "id": "5205d4cb-bd1e-4798-93ae-f1d6f23256dd",
   "metadata": {},
   "outputs": [
    {
     "name": "stdout",
     "output_type": "stream",
     "text": [
      "10. the shape of X after reshaping: (6046, 5, 3)\n",
      "11. the first 2 records of X after reshaping: [[[-0.54982334  0.17507497 -4.35707786]\n",
      "  [ 0.90519995  1.51729071 -2.52905765]\n",
      "  [ 0.43481275  2.28378937 -2.41803694]\n",
      "  [-0.43139673  0.93517558 -2.36652094]\n",
      "  [ 0.04634026  0.22477858 -2.5009701 ]]\n",
      "\n",
      " [[ 0.90519995  1.51729071 -2.52905765]\n",
      "  [ 0.43481275  2.28378937 -2.41803694]\n",
      "  [-0.43139673  0.93517558 -2.36652094]\n",
      "  [ 0.04634026  0.22477858 -2.5009701 ]\n",
      "  [-1.30412619  0.60591805 -1.366028  ]]]\n"
     ]
    }
   ],
   "source": [
    "X_rnn = X.to_numpy().reshape((-1,5,3)) #-1 equals to the size of observations, 5 is the lag and 3 are the number of variables**!!??**\n",
    "X_rnn.shape\n",
    "X_rnn\n",
    "\n",
    "print(f\"10. the shape of X after reshaping: {X_rnn.shape}\")\n",
    "print(\"11. the first 2 records of X after reshaping:\", X_rnn[0:2])"
   ]
  },
  {
   "cell_type": "markdown",
   "id": "d8028c6e-eb4a-44cf-a6b0-b82ac93b9163",
   "metadata": {},
   "source": [
    "Now we are ready for RNN modeling.\n",
    "\n",
    "Set up your X_train, X_test, Y_train, and Y_test using the X dataframe, Y response target, and the train variable you have created above.\n",
    "\n",
    "Include records where train = True in the train set, and train = False in the test set.\n",
    "Configure a Keras Sequential model with:\n",
    "\n",
    "(1) proper input shape,\n",
    "\n",
    "(2) SimpleRNN layer with 12 hidden units, the relu activation function, and 10% dropout\n",
    "\n",
    "(3) a proper output layer.\n",
    "\n",
    "Do not name the model or any of the layers.\n",
    "Print a summary of your model."
   ]
  },
  {
   "cell_type": "code",
   "execution_count": 11,
   "id": "3b2b91e8-a97f-4caa-87f0-d8486dabe2a3",
   "metadata": {},
   "outputs": [],
   "source": [
    "X_train = X_rnn[train]\n",
    "X_test = X_rnn[-train]\n",
    "Y_train = Y[train]\n",
    "Y_test = Y[-train]"
   ]
  },
  {
   "cell_type": "code",
   "execution_count": 12,
   "id": "6e75b36f-b81f-40a8-aac3-15d5e06f3f8f",
   "metadata": {},
   "outputs": [
    {
     "name": "stderr",
     "output_type": "stream",
     "text": [
      "C:\\Users\\dushi\\anaconda3\\Lib\\site-packages\\keras\\src\\layers\\rnn\\rnn.py:205: UserWarning: Do not pass an `input_shape`/`input_dim` argument to a layer. When using Sequential models, prefer using an `Input(shape)` object as the first layer in the model instead.\n",
      "  super().__init__(**kwargs)\n"
     ]
    },
    {
     "data": {
      "text/html": [
       "<pre style=\"white-space:pre;overflow-x:auto;line-height:normal;font-family:Menlo,'DejaVu Sans Mono',consolas,'Courier New',monospace\"><span style=\"font-weight: bold\">Model: \"sequential\"</span>\n",
       "</pre>\n"
      ],
      "text/plain": [
       "\u001b[1mModel: \"sequential\"\u001b[0m\n"
      ]
     },
     "metadata": {},
     "output_type": "display_data"
    },
    {
     "data": {
      "text/html": [
       "<pre style=\"white-space:pre;overflow-x:auto;line-height:normal;font-family:Menlo,'DejaVu Sans Mono',consolas,'Courier New',monospace\">┏━━━━━━━━━━━━━━━━━━━━━━━━━━━━━━━━━━━━━━┳━━━━━━━━━━━━━━━━━━━━━━━━━━━━━┳━━━━━━━━━━━━━━━━━┓\n",
       "┃<span style=\"font-weight: bold\"> Layer (type)                         </span>┃<span style=\"font-weight: bold\"> Output Shape                </span>┃<span style=\"font-weight: bold\">         Param # </span>┃\n",
       "┡━━━━━━━━━━━━━━━━━━━━━━━━━━━━━━━━━━━━━━╇━━━━━━━━━━━━━━━━━━━━━━━━━━━━━╇━━━━━━━━━━━━━━━━━┩\n",
       "│ simple_rnn (<span style=\"color: #0087ff; text-decoration-color: #0087ff\">SimpleRNN</span>)               │ (<span style=\"color: #00d7ff; text-decoration-color: #00d7ff\">None</span>, <span style=\"color: #00af00; text-decoration-color: #00af00\">12</span>)                  │             <span style=\"color: #00af00; text-decoration-color: #00af00\">192</span> │\n",
       "├──────────────────────────────────────┼─────────────────────────────┼─────────────────┤\n",
       "│ dense (<span style=\"color: #0087ff; text-decoration-color: #0087ff\">Dense</span>)                        │ (<span style=\"color: #00d7ff; text-decoration-color: #00d7ff\">None</span>, <span style=\"color: #00af00; text-decoration-color: #00af00\">1</span>)                   │              <span style=\"color: #00af00; text-decoration-color: #00af00\">13</span> │\n",
       "└──────────────────────────────────────┴─────────────────────────────┴─────────────────┘\n",
       "</pre>\n"
      ],
      "text/plain": [
       "┏━━━━━━━━━━━━━━━━━━━━━━━━━━━━━━━━━━━━━━┳━━━━━━━━━━━━━━━━━━━━━━━━━━━━━┳━━━━━━━━━━━━━━━━━┓\n",
       "┃\u001b[1m \u001b[0m\u001b[1mLayer (type)                        \u001b[0m\u001b[1m \u001b[0m┃\u001b[1m \u001b[0m\u001b[1mOutput Shape               \u001b[0m\u001b[1m \u001b[0m┃\u001b[1m \u001b[0m\u001b[1m        Param #\u001b[0m\u001b[1m \u001b[0m┃\n",
       "┡━━━━━━━━━━━━━━━━━━━━━━━━━━━━━━━━━━━━━━╇━━━━━━━━━━━━━━━━━━━━━━━━━━━━━╇━━━━━━━━━━━━━━━━━┩\n",
       "│ simple_rnn (\u001b[38;5;33mSimpleRNN\u001b[0m)               │ (\u001b[38;5;45mNone\u001b[0m, \u001b[38;5;34m12\u001b[0m)                  │             \u001b[38;5;34m192\u001b[0m │\n",
       "├──────────────────────────────────────┼─────────────────────────────┼─────────────────┤\n",
       "│ dense (\u001b[38;5;33mDense\u001b[0m)                        │ (\u001b[38;5;45mNone\u001b[0m, \u001b[38;5;34m1\u001b[0m)                   │              \u001b[38;5;34m13\u001b[0m │\n",
       "└──────────────────────────────────────┴─────────────────────────────┴─────────────────┘\n"
      ]
     },
     "metadata": {},
     "output_type": "display_data"
    },
    {
     "data": {
      "text/html": [
       "<pre style=\"white-space:pre;overflow-x:auto;line-height:normal;font-family:Menlo,'DejaVu Sans Mono',consolas,'Courier New',monospace\"><span style=\"font-weight: bold\"> Total params: </span><span style=\"color: #00af00; text-decoration-color: #00af00\">205</span> (820.00 B)\n",
       "</pre>\n"
      ],
      "text/plain": [
       "\u001b[1m Total params: \u001b[0m\u001b[38;5;34m205\u001b[0m (820.00 B)\n"
      ]
     },
     "metadata": {},
     "output_type": "display_data"
    },
    {
     "data": {
      "text/html": [
       "<pre style=\"white-space:pre;overflow-x:auto;line-height:normal;font-family:Menlo,'DejaVu Sans Mono',consolas,'Courier New',monospace\"><span style=\"font-weight: bold\"> Trainable params: </span><span style=\"color: #00af00; text-decoration-color: #00af00\">205</span> (820.00 B)\n",
       "</pre>\n"
      ],
      "text/plain": [
       "\u001b[1m Trainable params: \u001b[0m\u001b[38;5;34m205\u001b[0m (820.00 B)\n"
      ]
     },
     "metadata": {},
     "output_type": "display_data"
    },
    {
     "data": {
      "text/html": [
       "<pre style=\"white-space:pre;overflow-x:auto;line-height:normal;font-family:Menlo,'DejaVu Sans Mono',consolas,'Courier New',monospace\"><span style=\"font-weight: bold\"> Non-trainable params: </span><span style=\"color: #00af00; text-decoration-color: #00af00\">0</span> (0.00 B)\n",
       "</pre>\n"
      ],
      "text/plain": [
       "\u001b[1m Non-trainable params: \u001b[0m\u001b[38;5;34m0\u001b[0m (0.00 B)\n"
      ]
     },
     "metadata": {},
     "output_type": "display_data"
    }
   ],
   "source": [
    "model = Sequential()\n",
    "model.add(SimpleRNN(units=12, activation='relu', input_shape=(5, 3), dropout = 0.1))\n",
    "model.add(Dense(1, activation =\"linear\"))\n",
    "model.summary()"
   ]
  },
  {
   "cell_type": "markdown",
   "id": "47731ca3-4564-412e-b9b4-c7de6c03aaa2",
   "metadata": {},
   "source": [
    "'''\n",
    "Compile the modle with\n",
    "\n",
    "(1) the adam optimizer,\n",
    "\n",
    "(2) MSE as the loss,\n",
    "\n",
    "(3) MSE as the metric.\n",
    "\n",
    "Fit the model with\n",
    "\n",
    "(1) 200 epochs,\n",
    "\n",
    "(2) batch size of 32.\n",
    "'''"
   ]
  },
  {
   "cell_type": "code",
   "execution_count": 14,
   "id": "e2f76fec-b40d-499d-8658-0327c5d11a62",
   "metadata": {},
   "outputs": [],
   "source": [
    "model.compile(loss='mean_squared_error',\n",
    "              optimizer='adam',\n",
    "              metrics=['mean_squared_error'])\n",
    "\n",
    "history = model.fit(X_train, Y_train, batch_size=32, epochs=200, validation_data=(X_test, Y_test), verbose=0)"
   ]
  },
  {
   "cell_type": "markdown",
   "id": "6c28555b-4c75-4b2f-97a5-13445fa59944",
   "metadata": {},
   "source": [
    "'''\n",
    "Evaluate the model using model.evaluate() with the test set\n",
    "\n",
    "**Q4-1-13 Print \"13. Test MSE: xxx\" - Replace xxx with the proper value.\n",
    "'''"
   ]
  },
  {
   "cell_type": "code",
   "execution_count": 15,
   "id": "80249b5c-0c40-441b-8841-bcd341488ecf",
   "metadata": {},
   "outputs": [
    {
     "name": "stdout",
     "output_type": "stream",
     "text": [
      "\u001b[1m56/56\u001b[0m \u001b[32m━━━━━━━━━━━━━━━━━━━━\u001b[0m\u001b[37m\u001b[0m \u001b[1m0s\u001b[0m 2ms/step - loss: 0.4959 - mean_squared_error: 0.4935\n",
      "13. Test MSE: 0.6403339505195618\n"
     ]
    }
   ],
   "source": [
    "test_loss, test_accuracy = model.evaluate(X_test, Y_test)\n",
    "print(\"13. Test MSE:\", test_accuracy)"
   ]
  }
 ],
 "metadata": {
  "kernelspec": {
   "display_name": "Python 3 (ipykernel)",
   "language": "python",
   "name": "python3"
  },
  "language_info": {
   "codemirror_mode": {
    "name": "ipython",
    "version": 3
   },
   "file_extension": ".py",
   "mimetype": "text/x-python",
   "name": "python",
   "nbconvert_exporter": "python",
   "pygments_lexer": "ipython3",
   "version": "3.11.7"
  }
 },
 "nbformat": 4,
 "nbformat_minor": 5
}
